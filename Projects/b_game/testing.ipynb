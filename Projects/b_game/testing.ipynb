{
 "cells": [
  {
   "cell_type": "code",
   "execution_count": 20,
   "outputs": [
    {
     "data": {
      "text/plain": "101.0      1\n97.0       2\n96.0       2\n95.0       4\n94.0       4\n93.0       4\n92.0       5\n91.0      12\n90.0      12\n89.0      15\n88.0      22\n87.0      20\n86.0      31\n85.0      32\n84.0      44\n83.0      50\n82.0      49\n81.0      67\n80.0      65\n79.0      83\n78.0      93\n77.0      91\n76.0     100\n75.0      97\n74.0     128\n73.0     144\n72.0     147\n71.0     118\n70.0     123\n69.0     142\n68.0     112\n67.0     104\n66.0     128\n65.0     115\n64.0     111\n63.0     108\n62.0      77\n61.0      69\n60.0      88\n59.0      52\n58.0      63\n57.0      54\n56.0      40\n55.0      39\n54.0      34\n53.0      23\n52.0      22\n51.0      14\n50.0      10\n49.0       7\n48.0       7\n47.0       4\n46.0       4\n45.0       2\n44.0       2\n43.0       2\n41.0       1\n40.0       1\ndtype: int64"
     },
     "execution_count": 20,
     "metadata": {},
     "output_type": "execute_result"
    }
   ],
   "source": [
    "# def big_function(num1: int, num2: int) -> int:\n",
    "#     \"\"\"\n",
    "#     This function adds the two arguments\n",
    "#     Args:\n",
    "#         num1: First number\n",
    "#         num2: Second number\n",
    "#\n",
    "#     Returns:\n",
    "#         Sum of ''num1'' and ''num2''\n",
    "#     \"\"\"\n",
    "#     return num1 + num2\n",
    "\n",
    "import numpy as np\n",
    "import pandas as pd\n",
    "import matplotlib.pyplot as plt\n",
    "\n",
    "ba = np.around(np.random.normal(70, 9, 3000))\n",
    "\n",
    "pd.Series(ba).value_counts().sort_index(ascending = False)"
   ],
   "metadata": {
    "collapsed": false,
    "pycharm": {
     "name": "#%%\n"
    }
   }
  },
  {
   "cell_type": "code",
   "execution_count": null,
   "outputs": [],
   "source": [],
   "metadata": {
    "collapsed": false,
    "pycharm": {
     "name": "#%%\n"
    }
   }
  }
 ],
 "metadata": {
  "kernelspec": {
   "display_name": "Python 3",
   "language": "python",
   "name": "python3"
  },
  "language_info": {
   "codemirror_mode": {
    "name": "ipython",
    "version": 2
   },
   "file_extension": ".py",
   "mimetype": "text/x-python",
   "name": "python",
   "nbconvert_exporter": "python",
   "pygments_lexer": "ipython2",
   "version": "2.7.6"
  }
 },
 "nbformat": 4,
 "nbformat_minor": 0
}