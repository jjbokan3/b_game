{
 "cells": [
  {
   "cell_type": "code",
   "execution_count": 65,
   "outputs": [],
   "source": [
    "import numpy as np\n",
    "import pandas as pd\n",
    "import matplotlib.pyplot as plt\n",
    "import random\n",
    "import names"
   ],
   "metadata": {
    "collapsed": false,
    "pycharm": {
     "name": "#%%\n"
    }
   }
  },
  {
   "cell_type": "code",
   "execution_count": 6,
   "outputs": [
    {
     "data": {
      "text/plain": "98.0      2\n97.0      2\n96.0      4\n95.0      1\n94.0      7\n93.0      1\n92.0      6\n91.0     10\n90.0      8\n89.0     18\n88.0     16\n87.0     21\n86.0     40\n85.0     22\n84.0     41\n83.0     58\n82.0     61\n81.0     46\n80.0     65\n79.0     86\n78.0     96\n77.0     89\n76.0     99\n75.0    120\n74.0    112\n73.0    119\n72.0    119\n71.0    128\n70.0    126\n69.0    160\n68.0    132\n67.0    121\n66.0    133\n65.0    108\n64.0     92\n63.0    101\n62.0     94\n61.0     80\n60.0     80\n59.0     60\n58.0     52\n57.0     60\n56.0     42\n55.0     34\n54.0     34\n53.0     21\n52.0     18\n51.0     13\n50.0     14\n49.0      3\n48.0      8\n47.0      8\n46.0      2\n45.0      2\n44.0      1\n41.0      1\n40.0      2\n37.0      1\ndtype: int64"
     },
     "execution_count": 6,
     "metadata": {},
     "output_type": "execute_result"
    }
   ],
   "source": [
    "ba = np.around(np.random.normal(70, 9, 3000))\n",
    "\n",
    "pd.Series(ba).value_counts().sort_index(ascending = False)"
   ],
   "metadata": {
    "collapsed": false,
    "pycharm": {
     "name": "#%%\n"
    }
   }
  },
  {
   "cell_type": "code",
   "execution_count": 22,
   "outputs": [],
   "source": [
    "df = pd.DataFrame(ba, columns=['Main Rating'])"
   ],
   "metadata": {
    "collapsed": false,
    "pycharm": {
     "name": "#%%\n"
    }
   }
  },
  {
   "cell_type": "code",
   "execution_count": null,
   "outputs": [],
   "source": [
    "df['Pitch/Hit'] = np.random.randint(0, 27, 3000)\n",
    "df['Pitch/Hit'] = df['Pitch/Hit'].apply(lambda x: 'pitch' if x < 12 else 'hit')"
   ],
   "metadata": {
    "collapsed": false,
    "pycharm": {
     "name": "#%%\n"
    }
   }
  },
  {
   "cell_type": "code",
   "execution_count": 24,
   "outputs": [],
   "source": [
    "def left_right(value: int, position: str) -> str:\n",
    "    \"\"\"\n",
    "    Will return whether a hitter or batter is left or right throwing/hitting\n",
    "    Args:\n",
    "        value: Randomly generated value\n",
    "        position: Given position\n",
    "\n",
    "    Returns: left or right\n",
    "\n",
    "    \"\"\"\n",
    "    if position == 'hit':\n",
    "        if value < 35:\n",
    "            return 'left'\n",
    "        else:\n",
    "            return 'right'\n",
    "    else:\n",
    "        if value < 25:\n",
    "            return 'left'\n",
    "        else:\n",
    "            return 'right'"
   ],
   "metadata": {
    "collapsed": false,
    "pycharm": {
     "name": "#%%\n"
    }
   }
  },
  {
   "cell_type": "code",
   "execution_count": 25,
   "outputs": [],
   "source": [
    "df['Right/Left'] = np.random.randint(0, 100, 3000)\n",
    "df['Right/Left'] = df.apply(lambda row: left_right(row['Right/Left'], row['Pitch/Hit']), axis=1)"
   ],
   "metadata": {
    "collapsed": false,
    "pycharm": {
     "name": "#%%\n"
    }
   }
  },
  {
   "cell_type": "code",
   "execution_count": 26,
   "outputs": [
    {
     "data": {
      "text/plain": "      Main Rating Pitch/Hit Right/Left\n0            75.0       hit      right\n1            60.0       hit      right\n2            57.0       hit      right\n3            78.0     pitch       left\n4            63.0     pitch      right\n...           ...       ...        ...\n2995         90.0       hit       left\n2996         75.0     pitch      right\n2997         62.0       hit       left\n2998         74.0       hit       left\n2999         59.0     pitch      right\n\n[3000 rows x 3 columns]",
      "text/html": "<div>\n<style scoped>\n    .dataframe tbody tr th:only-of-type {\n        vertical-align: middle;\n    }\n\n    .dataframe tbody tr th {\n        vertical-align: top;\n    }\n\n    .dataframe thead th {\n        text-align: right;\n    }\n</style>\n<table border=\"1\" class=\"dataframe\">\n  <thead>\n    <tr style=\"text-align: right;\">\n      <th></th>\n      <th>Main Rating</th>\n      <th>Pitch/Hit</th>\n      <th>Right/Left</th>\n    </tr>\n  </thead>\n  <tbody>\n    <tr>\n      <th>0</th>\n      <td>75.0</td>\n      <td>hit</td>\n      <td>right</td>\n    </tr>\n    <tr>\n      <th>1</th>\n      <td>60.0</td>\n      <td>hit</td>\n      <td>right</td>\n    </tr>\n    <tr>\n      <th>2</th>\n      <td>57.0</td>\n      <td>hit</td>\n      <td>right</td>\n    </tr>\n    <tr>\n      <th>3</th>\n      <td>78.0</td>\n      <td>pitch</td>\n      <td>left</td>\n    </tr>\n    <tr>\n      <th>4</th>\n      <td>63.0</td>\n      <td>pitch</td>\n      <td>right</td>\n    </tr>\n    <tr>\n      <th>...</th>\n      <td>...</td>\n      <td>...</td>\n      <td>...</td>\n    </tr>\n    <tr>\n      <th>2995</th>\n      <td>90.0</td>\n      <td>hit</td>\n      <td>left</td>\n    </tr>\n    <tr>\n      <th>2996</th>\n      <td>75.0</td>\n      <td>pitch</td>\n      <td>right</td>\n    </tr>\n    <tr>\n      <th>2997</th>\n      <td>62.0</td>\n      <td>hit</td>\n      <td>left</td>\n    </tr>\n    <tr>\n      <th>2998</th>\n      <td>74.0</td>\n      <td>hit</td>\n      <td>left</td>\n    </tr>\n    <tr>\n      <th>2999</th>\n      <td>59.0</td>\n      <td>pitch</td>\n      <td>right</td>\n    </tr>\n  </tbody>\n</table>\n<p>3000 rows × 3 columns</p>\n</div>"
     },
     "execution_count": 26,
     "metadata": {},
     "output_type": "execute_result"
    }
   ],
   "source": [
    "df"
   ],
   "metadata": {
    "collapsed": false,
    "pycharm": {
     "name": "#%%\n"
    }
   }
  },
  {
   "cell_type": "code",
   "execution_count": 77,
   "outputs": [],
   "source": [
    "batting_attributes = {\n",
    "    'contact': 3,\n",
    "    'power': 1.5,\n",
    "    'speed/stealing': 2.5,\n",
    "    'fielding': 3,\n",
    "    'eye': 2,\n",
    "    'avoid ks': 2\n",
    "}\n",
    "\n",
    "pitching_attributes = {\n",
    "    'stuff': 2,\n",
    "    'movement': 2.5,\n",
    "    'control': 3\n",
    "}"
   ],
   "metadata": {
    "collapsed": false,
    "pycharm": {
     "name": "#%%\n"
    }
   }
  },
  {
   "cell_type": "code",
   "execution_count": 78,
   "outputs": [],
   "source": [
    "def assign_attributes(df) -> dict:\n",
    "    if df['Pitch/Hit'] == 'hit':\n",
    "        temp_dict = batting_attributes.copy()\n",
    "    else:\n",
    "        temp_dict = pitching_attributes.copy()\n",
    "    return_dict = {}\n",
    "    main_rating = df['Main Rating']\n",
    "    for x in range(len(temp_dict)):\n",
    "        choice = random.choices(list(temp_dict.keys()), list(temp_dict.values()))[0]\n",
    "        att_rating = np.around(np.random.normal(df['Main Rating'], 9))\n",
    "        return_dict.update({choice: att_rating})\n",
    "        temp_dict.pop(choice)\n",
    "        main_rating -= 5\n",
    "\n",
    "    return return_dict"
   ],
   "metadata": {
    "collapsed": false,
    "pycharm": {
     "name": "#%%\n"
    }
   }
  },
  {
   "cell_type": "code",
   "execution_count": 79,
   "outputs": [],
   "source": [
    "df['Attributes'] = df.apply(lambda row: assign_attributes(row), axis=1)"
   ],
   "metadata": {
    "collapsed": false,
    "pycharm": {
     "name": "#%%\n"
    }
   }
  },
  {
   "cell_type": "code",
   "execution_count": 70,
   "outputs": [],
   "source": [
    "df['Name'] = df.apply(lambda row: names.get_full_name(gender='male'), axis=1)"
   ],
   "metadata": {
    "collapsed": false,
    "pycharm": {
     "name": "#%%\n"
    }
   }
  },
  {
   "cell_type": "code",
   "execution_count": null,
   "outputs": [],
   "source": [],
   "metadata": {
    "collapsed": false,
    "pycharm": {
     "name": "#%%\n"
    }
   }
  }
 ],
 "metadata": {
  "kernelspec": {
   "display_name": "Python 3",
   "language": "python",
   "name": "python3"
  },
  "language_info": {
   "codemirror_mode": {
    "name": "ipython",
    "version": 2
   },
   "file_extension": ".py",
   "mimetype": "text/x-python",
   "name": "python",
   "nbconvert_exporter": "python",
   "pygments_lexer": "ipython2",
   "version": "2.7.6"
  }
 },
 "nbformat": 4,
 "nbformat_minor": 0
}