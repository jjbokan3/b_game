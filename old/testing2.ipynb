{
 "cells": [
  {
   "cell_type": "markdown",
   "source": [
    "## Setup and Constants"
   ],
   "metadata": {
    "collapsed": false,
    "pycharm": {
     "name": "#%% md\n"
    }
   }
  },
  {
   "cell_type": "code",
   "execution_count": 2,
   "outputs": [],
   "source": [
    "# Packages\n",
    "import numpy as np\n",
    "import pandas as pd\n",
    "import random\n",
    "import names"
   ],
   "metadata": {
    "collapsed": false,
    "pycharm": {
     "name": "#%%\n"
    }
   }
  },
  {
   "cell_type": "code",
   "execution_count": 3,
   "outputs": [],
   "source": [
    "# Constants\n",
    "NUM_PLAYERS = 3000  # Number of players to create\n",
    "PITCH_PROB = 11 / 27  # Probability of choosing pitcher\n",
    "HITTER_PROB = 1 - PITCH_PROB  # Probability of choosing hitter\n",
    "LEFT_PITCH_PROB = .25  # Probability of choosing left-handed pitcher\n",
    "LEFT_HIT_PROB = .35  # Probability of choosing left-handed batter\n",
    "MEAN_MAIN_RATING = 70  # Mean rating for creation of main ratings\n",
    "STD_MAIN_RATING = 9  # Standard deviation for creation of main ratings\n",
    "ATTRIBUTE_STD = 6\n",
    "\n",
    "# Batting attribute weights\n",
    "BATTING_ATTRIBUTES = {\n",
    "    \"contact\": 3,\n",
    "    \"power\": 1.5,\n",
    "    \"speed/stealing\": 2.5,\n",
    "    \"fielding\": 3,\n",
    "    \"eye\": 2,\n",
    "    \"avoid ks\": 2,\n",
    "}\n",
    "\n",
    "# Batting attribute weights\n",
    "PITCHING_ATTRIBUTES = {\"stuff\": 2, \"movement\": 2.5, \"control\": 3}"
   ],
   "metadata": {
    "collapsed": false,
    "pycharm": {
     "name": "#%%\n"
    }
   }
  },
  {
   "cell_type": "markdown",
   "source": [
    "### Functions"
   ],
   "metadata": {
    "collapsed": false,
    "pycharm": {
     "name": "#%% md\n"
    }
   }
  },
  {
   "cell_type": "markdown",
   "source": [
    "## Creating Players"
   ],
   "metadata": {
    "collapsed": false,
    "pycharm": {
     "name": "#%% md\n"
    }
   }
  },
  {
   "cell_type": "code",
   "execution_count": 4,
   "outputs": [],
   "source": [
    "def left_right(df: pd.DataFrame) -> str:\n",
    "    \"\"\"\n",
    "    Will return whether a hitter or batter is left or right throwing/hitting\n",
    "\n",
    "    Args:\n",
    "        df: Dataframe to modify\n",
    "\n",
    "    Returns: left or right\n",
    "\n",
    "    \"\"\"\n",
    "    if df[\"Pitch/Hit\"] == \"hit\":\n",
    "        return np.random.choice([\"left\", \"right\"], p=[LEFT_HIT_PROB, 1 - LEFT_HIT_PROB])\n",
    "\n",
    "    else:\n",
    "        return np.random.choice(\n",
    "            [\"left\", \"right\"], p=[LEFT_PITCH_PROB, 1 - LEFT_PITCH_PROB]\n",
    "        )\n",
    "\n",
    "\n",
    "def assign_attributes(df: pd.DataFrame) -> dict:\n",
    "    \"\"\"\n",
    "    Assigns a number to each hitter/pitcher's attributes\n",
    "\n",
    "    Args:\n",
    "        df: Dataframe to modify\n",
    "\n",
    "    Returns: Dictionary of attributes for one record\n",
    "    \"\"\"\n",
    "    if df[\"Pitch/Hit\"] == \"hit\":\n",
    "        temp_dict = BATTING_ATTRIBUTES.copy()\n",
    "    else:\n",
    "        temp_dict = PITCHING_ATTRIBUTES.copy()\n",
    "    return_dict = {}\n",
    "    mr = df[\"Main Rating\"]\n",
    "    for x in range(len(temp_dict)):\n",
    "        choice = random.choices(list(temp_dict.keys()), list(temp_dict.values()))[0]\n",
    "        att_rating = np.around(np.random.normal(df[\"Main Rating\"], ATTRIBUTE_STD))\n",
    "        z_score = (att_rating - mr) / ATTRIBUTE_STD\n",
    "        return_dict.update({choice: att_rating})\n",
    "        temp_dict.pop(choice)\n",
    "        mr -= abs((5 + z_score))\n",
    "\n",
    "    return return_dict"
   ],
   "metadata": {
    "collapsed": false,
    "pycharm": {
     "name": "#%%\n"
    }
   }
  },
  {
   "cell_type": "code",
   "execution_count": 5,
   "outputs": [],
   "source": [
    "def create_player_df():\n",
    "    df_main = pd.DataFrame(\n",
    "        np.around(np.random.normal(MEAN_MAIN_RATING, STD_MAIN_RATING, NUM_PLAYERS)),\n",
    "        columns=[\"Main Rating\"],\n",
    "    )\n",
    "    df_main[\"Pitch/Hit\"] = np.random.choice([\"pitch\", \"hit\"], size=3000, p=[PITCH_PROB, HITTER_PROB])\n",
    "    df_main[\"Right/Left\"] = np.random.randint(0, 100, NUM_PLAYERS)\n",
    "    df_main[\"Right/Left\"] = df_main.apply(lambda row: left_right(row), axis=1)\n",
    "    df_main[\"Attributes\"] = df_main.apply(lambda row: assign_attributes(row), axis=1)\n",
    "    df_main[\"Name\"] = df_main.apply(lambda row: names.get_full_name(gender=\"male\"), axis=1)\n",
    "\n",
    "    return df_main"
   ],
   "metadata": {
    "collapsed": false,
    "pycharm": {
     "name": "#%%\n"
    }
   }
  },
  {
   "cell_type": "code",
   "execution_count": 7,
   "outputs": [
    {
     "data": {
      "text/plain": "      Main Rating Pitch/Hit Right/Left  \\\n0            67.0     pitch      right   \n1            56.0       hit       left   \n2            57.0     pitch      right   \n3            74.0     pitch      right   \n4            55.0       hit      right   \n...           ...       ...        ...   \n2995         72.0       hit      right   \n2996         73.0       hit      right   \n2997         78.0       hit      right   \n2998         84.0       hit       left   \n2999         61.0       hit       left   \n\n                                             Attributes              Name  \n0     {'control': 57.0, 'movement': 72.0, 'stuff': 6...   Victor Williams  \n1     {'avoid ks': 59.0, 'fielding': 63.0, 'speed/st...    Patrick Palmer  \n2     {'stuff': 57.0, 'control': 52.0, 'movement': 5...     Randall Stein  \n3     {'movement': 68.0, 'stuff': 79.0, 'control': 6...     James Valadez  \n4     {'speed/stealing': 57.0, 'fielding': 52.0, 'av...     Jerry Skelton  \n...                                                 ...               ...  \n2995  {'eye': 81.0, 'fielding': 71.0, 'avoid ks': 68...      David Appell  \n2996  {'fielding': 69.0, 'eye': 73.0, 'contact': 65....  Thomas Singleton  \n2997  {'avoid ks': 71.0, 'eye': 83.0, 'speed/stealin...  Donald Contreras  \n2998  {'fielding': 97.0, 'eye': 85.0, 'contact': 95....       John Wright  \n2999  {'speed/stealing': 64.0, 'fielding': 50.0, 'ey...    Joseph Cotrell  \n\n[3000 rows x 5 columns]",
      "text/html": "<div>\n<style scoped>\n    .dataframe tbody tr th:only-of-type {\n        vertical-align: middle;\n    }\n\n    .dataframe tbody tr th {\n        vertical-align: top;\n    }\n\n    .dataframe thead th {\n        text-align: right;\n    }\n</style>\n<table border=\"1\" class=\"dataframe\">\n  <thead>\n    <tr style=\"text-align: right;\">\n      <th></th>\n      <th>Main Rating</th>\n      <th>Pitch/Hit</th>\n      <th>Right/Left</th>\n      <th>Attributes</th>\n      <th>Name</th>\n    </tr>\n  </thead>\n  <tbody>\n    <tr>\n      <th>0</th>\n      <td>67.0</td>\n      <td>pitch</td>\n      <td>right</td>\n      <td>{'control': 57.0, 'movement': 72.0, 'stuff': 6...</td>\n      <td>Victor Williams</td>\n    </tr>\n    <tr>\n      <th>1</th>\n      <td>56.0</td>\n      <td>hit</td>\n      <td>left</td>\n      <td>{'avoid ks': 59.0, 'fielding': 63.0, 'speed/st...</td>\n      <td>Patrick Palmer</td>\n    </tr>\n    <tr>\n      <th>2</th>\n      <td>57.0</td>\n      <td>pitch</td>\n      <td>right</td>\n      <td>{'stuff': 57.0, 'control': 52.0, 'movement': 5...</td>\n      <td>Randall Stein</td>\n    </tr>\n    <tr>\n      <th>3</th>\n      <td>74.0</td>\n      <td>pitch</td>\n      <td>right</td>\n      <td>{'movement': 68.0, 'stuff': 79.0, 'control': 6...</td>\n      <td>James Valadez</td>\n    </tr>\n    <tr>\n      <th>4</th>\n      <td>55.0</td>\n      <td>hit</td>\n      <td>right</td>\n      <td>{'speed/stealing': 57.0, 'fielding': 52.0, 'av...</td>\n      <td>Jerry Skelton</td>\n    </tr>\n    <tr>\n      <th>...</th>\n      <td>...</td>\n      <td>...</td>\n      <td>...</td>\n      <td>...</td>\n      <td>...</td>\n    </tr>\n    <tr>\n      <th>2995</th>\n      <td>72.0</td>\n      <td>hit</td>\n      <td>right</td>\n      <td>{'eye': 81.0, 'fielding': 71.0, 'avoid ks': 68...</td>\n      <td>David Appell</td>\n    </tr>\n    <tr>\n      <th>2996</th>\n      <td>73.0</td>\n      <td>hit</td>\n      <td>right</td>\n      <td>{'fielding': 69.0, 'eye': 73.0, 'contact': 65....</td>\n      <td>Thomas Singleton</td>\n    </tr>\n    <tr>\n      <th>2997</th>\n      <td>78.0</td>\n      <td>hit</td>\n      <td>right</td>\n      <td>{'avoid ks': 71.0, 'eye': 83.0, 'speed/stealin...</td>\n      <td>Donald Contreras</td>\n    </tr>\n    <tr>\n      <th>2998</th>\n      <td>84.0</td>\n      <td>hit</td>\n      <td>left</td>\n      <td>{'fielding': 97.0, 'eye': 85.0, 'contact': 95....</td>\n      <td>John Wright</td>\n    </tr>\n    <tr>\n      <th>2999</th>\n      <td>61.0</td>\n      <td>hit</td>\n      <td>left</td>\n      <td>{'speed/stealing': 64.0, 'fielding': 50.0, 'ey...</td>\n      <td>Joseph Cotrell</td>\n    </tr>\n  </tbody>\n</table>\n<p>3000 rows × 5 columns</p>\n</div>"
     },
     "execution_count": 7,
     "metadata": {},
     "output_type": "execute_result"
    }
   ],
   "source": [
    "df = create_player_df()\n",
    "\n",
    "df"
   ],
   "metadata": {
    "collapsed": false,
    "pycharm": {
     "name": "#%%\n"
    }
   }
  },
  {
   "cell_type": "code",
   "execution_count": null,
   "outputs": [],
   "source": [],
   "metadata": {
    "collapsed": false,
    "pycharm": {
     "name": "#%%\n"
    }
   }
  }
 ],
 "metadata": {
  "kernelspec": {
   "display_name": "Python 3",
   "language": "python",
   "name": "python3"
  },
  "language_info": {
   "codemirror_mode": {
    "name": "ipython",
    "version": 2
   },
   "file_extension": ".py",
   "mimetype": "text/x-python",
   "name": "python",
   "nbconvert_exporter": "python",
   "pygments_lexer": "ipython2",
   "version": "2.7.6"
  }
 },
 "nbformat": 4,
 "nbformat_minor": 0
}