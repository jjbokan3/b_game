{
 "cells": [
  {
   "cell_type": "markdown",
   "source": [
    "## Setup and Constants"
   ],
   "metadata": {
    "collapsed": false,
    "pycharm": {
     "name": "#%% md\n"
    }
   }
  },
  {
   "cell_type": "code",
   "execution_count": 47,
   "outputs": [],
   "source": [
    "# Packages\n",
    "import numpy as np\n",
    "import pandas as pd\n",
    "import random\n",
    "import names"
   ],
   "metadata": {
    "collapsed": false,
    "pycharm": {
     "name": "#%%\n"
    }
   }
  },
  {
   "cell_type": "code",
   "execution_count": 48,
   "outputs": [],
   "source": [
    "# Constants\n",
    "NUM_PLAYERS = 3000  # Number of players to create\n",
    "PITCH_PROB = 11 / 27  # Probability of choosing pitcher\n",
    "HITTER_PROB = 1 - PITCH_PROB  # Probability of choosing hitter\n",
    "LEFT_PITCH_PROB = 0.25  # Probability of choosing left-handed pitcher\n",
    "LEFT_HIT_PROB = 0.35  # Probability of choosing left-handed batter\n",
    "MEAN_MAIN_RATING = 70  # Mean rating for creation of main ratings\n",
    "STD_MAIN_RATING = 9  # Standard deviation for creation of main ratings\n",
    "ATTRIBUTE_STD = 6\n",
    "\n",
    "# Batting attribute weights\n",
    "BATTING_ATTRIBUTES = {\n",
    "    \"contact\": 3,\n",
    "    \"power\": 1.5,\n",
    "    \"speed/stealing\": 2.5,\n",
    "    \"fielding\": 3,\n",
    "    \"eye\": 2,\n",
    "    \"avoid ks\": 2,\n",
    "}\n",
    "\n",
    "# Batting attribute weights\n",
    "PITCHING_ATTRIBUTES = {\"stuff\": 2, \"movement\": 2.5, \"control\": 3}"
   ],
   "metadata": {
    "collapsed": false,
    "pycharm": {
     "name": "#%%\n"
    }
   }
  },
  {
   "cell_type": "markdown",
   "source": [
    "### Functions"
   ],
   "metadata": {
    "collapsed": false,
    "pycharm": {
     "name": "#%% md\n"
    }
   }
  },
  {
   "cell_type": "markdown",
   "source": [
    "## Creating Players"
   ],
   "metadata": {
    "collapsed": false,
    "pycharm": {
     "name": "#%% md\n"
    }
   }
  },
  {
   "cell_type": "code",
   "execution_count": 49,
   "outputs": [],
   "source": [
    "def left_right(df: pd.DataFrame) -> str:\n",
    "    \"\"\"\n",
    "    Will return whether a hitter or batter is left or right throwing/hitting\n",
    "\n",
    "    Args:\n",
    "        df: Dataframe to modify\n",
    "\n",
    "    Returns: left or right\n",
    "\n",
    "    \"\"\"\n",
    "    if df[\"Pitch/Hit\"] == \"hit\":\n",
    "        return np.random.choice([\"left\", \"right\"], p=[LEFT_HIT_PROB, 1 - LEFT_HIT_PROB])\n",
    "\n",
    "    else:\n",
    "        return np.random.choice(\n",
    "            [\"left\", \"right\"], p=[LEFT_PITCH_PROB, 1 - LEFT_PITCH_PROB]\n",
    "        )\n",
    "\n",
    "\n",
    "def assign_attributes(df: pd.DataFrame) -> dict:\n",
    "    \"\"\"\n",
    "    Assigns a number to each hitter/pitcher's attributes\n",
    "\n",
    "    Args:\n",
    "        df: Dataframe to modify\n",
    "\n",
    "    Returns: Dictionary of attributes for one record\n",
    "    \"\"\"\n",
    "    if df[\"Pitch/Hit\"] == \"hit\":\n",
    "        temp_dict = BATTING_ATTRIBUTES.copy()\n",
    "    else:\n",
    "        temp_dict = PITCHING_ATTRIBUTES.copy()\n",
    "    return_dict = {}\n",
    "    mr = df[\"Main Rating\"]\n",
    "    for x in range(len(temp_dict)):\n",
    "        choice = random.choices(list(temp_dict.keys()), list(temp_dict.values()))[0]\n",
    "        att_rating = np.around(np.random.normal(df[\"Main Rating\"], ATTRIBUTE_STD))\n",
    "        z_score = (att_rating - mr) / ATTRIBUTE_STD\n",
    "        return_dict.update({choice: att_rating})\n",
    "        temp_dict.pop(choice)\n",
    "        mr -= abs((5 + z_score))\n",
    "\n",
    "    return return_dict"
   ],
   "metadata": {
    "collapsed": false,
    "pycharm": {
     "name": "#%%\n"
    }
   }
  },
  {
   "cell_type": "markdown",
   "source": [],
   "metadata": {
    "collapsed": false,
    "pycharm": {
     "name": "#%% md\n"
    }
   }
  },
  {
   "cell_type": "code",
   "execution_count": 50,
   "outputs": [],
   "source": [
    "# Create dataframe of one column of normal distributed ratings around 70\n",
    "df_main = pd.DataFrame(\n",
    "    np.around(np.random.normal(MEAN_MAIN_RATING, STD_MAIN_RATING, NUM_PLAYERS)),\n",
    "    columns=[\"Main Rating\"],\n",
    ")"
   ],
   "metadata": {
    "collapsed": false,
    "pycharm": {
     "name": "#%%\n"
    }
   }
  },
  {
   "cell_type": "code",
   "execution_count": 51,
   "outputs": [],
   "source": [
    "df_main[\"Pitch/Hit\"] = np.random.choice(\n",
    "    [\"pitch\", \"hit\"], size=3000, p=[PITCH_PROB, HITTER_PROB]\n",
    ")"
   ],
   "metadata": {
    "collapsed": false,
    "pycharm": {
     "name": "#%%\n"
    }
   }
  },
  {
   "cell_type": "code",
   "execution_count": 52,
   "outputs": [],
   "source": [
    "df_main[\"Right/Left\"] = np.random.randint(0, 100, NUM_PLAYERS)\n",
    "df_main[\"Right/Left\"] = df_main.apply(lambda row: left_right(row), axis=1)"
   ],
   "metadata": {
    "collapsed": false,
    "pycharm": {
     "name": "#%%\n"
    }
   }
  },
  {
   "cell_type": "code",
   "execution_count": 53,
   "outputs": [],
   "source": [
    "df_main[\"Attributes\"] = df_main.apply(lambda row: assign_attributes(row), axis=1)"
   ],
   "metadata": {
    "collapsed": false,
    "pycharm": {
     "name": "#%%\n"
    }
   }
  },
  {
   "cell_type": "code",
   "execution_count": 54,
   "outputs": [],
   "source": [
    "df_main[\"Name\"] = df_main.apply(lambda row: names.get_full_name(gender=\"male\"), axis=1)"
   ],
   "metadata": {
    "collapsed": false,
    "pycharm": {
     "name": "#%%\n"
    }
   }
  },
  {
   "cell_type": "code",
   "execution_count": 55,
   "outputs": [
    {
     "data": {
      "text/plain": "        Main Rating Pitch/Hit Right/Left  \\\ncount   3000.000000      3000       3000   \nunique          NaN         2          2   \ntop             NaN       hit      right   \nfreq            NaN      1793       2110   \nmean      69.733667       NaN        NaN   \nstd        8.833879       NaN        NaN   \nmin       38.000000       NaN        NaN   \n25%       64.000000       NaN        NaN   \n50%       70.000000       NaN        NaN   \n75%       76.000000       NaN        NaN   \nmax      101.000000       NaN        NaN   \n\n                                               Attributes          Name  \ncount                                                3000          3000  \nunique                                               2970          2969  \ntop     {'control': 76.0, 'stuff': 77.0, 'movement': 8...  John Sanchez  \nfreq                                                    3             3  \nmean                                                  NaN           NaN  \nstd                                                   NaN           NaN  \nmin                                                   NaN           NaN  \n25%                                                   NaN           NaN  \n50%                                                   NaN           NaN  \n75%                                                   NaN           NaN  \nmax                                                   NaN           NaN  ",
      "text/html": "<div>\n<style scoped>\n    .dataframe tbody tr th:only-of-type {\n        vertical-align: middle;\n    }\n\n    .dataframe tbody tr th {\n        vertical-align: top;\n    }\n\n    .dataframe thead th {\n        text-align: right;\n    }\n</style>\n<table border=\"1\" class=\"dataframe\">\n  <thead>\n    <tr style=\"text-align: right;\">\n      <th></th>\n      <th>Main Rating</th>\n      <th>Pitch/Hit</th>\n      <th>Right/Left</th>\n      <th>Attributes</th>\n      <th>Name</th>\n    </tr>\n  </thead>\n  <tbody>\n    <tr>\n      <th>count</th>\n      <td>3000.000000</td>\n      <td>3000</td>\n      <td>3000</td>\n      <td>3000</td>\n      <td>3000</td>\n    </tr>\n    <tr>\n      <th>unique</th>\n      <td>NaN</td>\n      <td>2</td>\n      <td>2</td>\n      <td>2970</td>\n      <td>2969</td>\n    </tr>\n    <tr>\n      <th>top</th>\n      <td>NaN</td>\n      <td>hit</td>\n      <td>right</td>\n      <td>{'control': 76.0, 'stuff': 77.0, 'movement': 8...</td>\n      <td>John Sanchez</td>\n    </tr>\n    <tr>\n      <th>freq</th>\n      <td>NaN</td>\n      <td>1793</td>\n      <td>2110</td>\n      <td>3</td>\n      <td>3</td>\n    </tr>\n    <tr>\n      <th>mean</th>\n      <td>69.733667</td>\n      <td>NaN</td>\n      <td>NaN</td>\n      <td>NaN</td>\n      <td>NaN</td>\n    </tr>\n    <tr>\n      <th>std</th>\n      <td>8.833879</td>\n      <td>NaN</td>\n      <td>NaN</td>\n      <td>NaN</td>\n      <td>NaN</td>\n    </tr>\n    <tr>\n      <th>min</th>\n      <td>38.000000</td>\n      <td>NaN</td>\n      <td>NaN</td>\n      <td>NaN</td>\n      <td>NaN</td>\n    </tr>\n    <tr>\n      <th>25%</th>\n      <td>64.000000</td>\n      <td>NaN</td>\n      <td>NaN</td>\n      <td>NaN</td>\n      <td>NaN</td>\n    </tr>\n    <tr>\n      <th>50%</th>\n      <td>70.000000</td>\n      <td>NaN</td>\n      <td>NaN</td>\n      <td>NaN</td>\n      <td>NaN</td>\n    </tr>\n    <tr>\n      <th>75%</th>\n      <td>76.000000</td>\n      <td>NaN</td>\n      <td>NaN</td>\n      <td>NaN</td>\n      <td>NaN</td>\n    </tr>\n    <tr>\n      <th>max</th>\n      <td>101.000000</td>\n      <td>NaN</td>\n      <td>NaN</td>\n      <td>NaN</td>\n      <td>NaN</td>\n    </tr>\n  </tbody>\n</table>\n</div>"
     },
     "execution_count": 55,
     "metadata": {},
     "output_type": "execute_result"
    }
   ],
   "source": [
    "df_main.describe(include=\"all\")"
   ],
   "metadata": {
    "collapsed": false,
    "pycharm": {
     "name": "#%%\n"
    }
   }
  },
  {
   "cell_type": "code",
   "execution_count": 56,
   "outputs": [
    {
     "data": {
      "text/plain": "      Main Rating Pitch/Hit Right/Left  \\\n2372         88.0     pitch      right   \n1090         79.0       hit      right   \n1260         74.0       hit       left   \n1244         70.0       hit      right   \n\n                                             Attributes                Name  \n2372  {'control': 75.0, 'stuff': 82.0, 'movement': 9...      Keith Crockett  \n1090  {'power': 86.0, 'eye': 79.0, 'avoid ks': 81.0,...  Garrett Washington  \n1260  {'fielding': 73.0, 'power': 83.0, 'speed/steal...  Stanley Kasprowicz  \n1244  {'speed/stealing': 75.0, 'fielding': 66.0, 'av...        Robert Benge  ",
      "text/html": "<div>\n<style scoped>\n    .dataframe tbody tr th:only-of-type {\n        vertical-align: middle;\n    }\n\n    .dataframe tbody tr th {\n        vertical-align: top;\n    }\n\n    .dataframe thead th {\n        text-align: right;\n    }\n</style>\n<table border=\"1\" class=\"dataframe\">\n  <thead>\n    <tr style=\"text-align: right;\">\n      <th></th>\n      <th>Main Rating</th>\n      <th>Pitch/Hit</th>\n      <th>Right/Left</th>\n      <th>Attributes</th>\n      <th>Name</th>\n    </tr>\n  </thead>\n  <tbody>\n    <tr>\n      <th>2372</th>\n      <td>88.0</td>\n      <td>pitch</td>\n      <td>right</td>\n      <td>{'control': 75.0, 'stuff': 82.0, 'movement': 9...</td>\n      <td>Keith Crockett</td>\n    </tr>\n    <tr>\n      <th>1090</th>\n      <td>79.0</td>\n      <td>hit</td>\n      <td>right</td>\n      <td>{'power': 86.0, 'eye': 79.0, 'avoid ks': 81.0,...</td>\n      <td>Garrett Washington</td>\n    </tr>\n    <tr>\n      <th>1260</th>\n      <td>74.0</td>\n      <td>hit</td>\n      <td>left</td>\n      <td>{'fielding': 73.0, 'power': 83.0, 'speed/steal...</td>\n      <td>Stanley Kasprowicz</td>\n    </tr>\n    <tr>\n      <th>1244</th>\n      <td>70.0</td>\n      <td>hit</td>\n      <td>right</td>\n      <td>{'speed/stealing': 75.0, 'fielding': 66.0, 'av...</td>\n      <td>Robert Benge</td>\n    </tr>\n  </tbody>\n</table>\n</div>"
     },
     "execution_count": 56,
     "metadata": {},
     "output_type": "execute_result"
    }
   ],
   "source": [
    "df_main.sample(4)"
   ],
   "metadata": {
    "collapsed": false,
    "pycharm": {
     "name": "#%%\n"
    }
   }
  },
  {
   "cell_type": "code",
   "execution_count": 57,
   "outputs": [
    {
     "data": {
      "text/plain": "      Main Rating Pitch/Hit Right/Left  \\\n0            80.0     pitch       left   \n1            67.0       hit      right   \n2            64.0     pitch      right   \n3            81.0     pitch      right   \n4            85.0       hit      right   \n...           ...       ...        ...   \n2995         74.0       hit      right   \n2996         71.0     pitch      right   \n2997         67.0       hit      right   \n2998         59.0     pitch       left   \n2999         69.0       hit      right   \n\n                                             Attributes             Name  \n0     {'control': 79.0, 'stuff': 81.0, 'movement': 7...  Jonathan Garvey  \n1     {'avoid ks': 65.0, 'eye': 75.0, 'contact': 65....    Allen Robbins  \n2     {'movement': 59.0, 'control': 61.0, 'stuff': 6...     Rodney Bates  \n3     {'control': 90.0, 'movement': 82.0, 'stuff': 9...  William Herbert  \n4     {'speed/stealing': 92.0, 'eye': 85.0, 'contact...    James Lockett  \n...                                                 ...              ...  \n2995  {'eye': 65.0, 'avoid ks': 80.0, 'fielding': 76...   Stephen Naquin  \n2996  {'stuff': 66.0, 'control': 77.0, 'movement': 7...  Richard Masters  \n2997  {'eye': 72.0, 'fielding': 61.0, 'power': 71.0,...   Patrick Keller  \n2998  {'control': 73.0, 'stuff': 56.0, 'movement': 6...      Henry Smith  \n2999  {'power': 70.0, 'eye': 63.0, 'speed/stealing':...     James Damico  \n\n[3000 rows x 5 columns]",
      "text/html": "<div>\n<style scoped>\n    .dataframe tbody tr th:only-of-type {\n        vertical-align: middle;\n    }\n\n    .dataframe tbody tr th {\n        vertical-align: top;\n    }\n\n    .dataframe thead th {\n        text-align: right;\n    }\n</style>\n<table border=\"1\" class=\"dataframe\">\n  <thead>\n    <tr style=\"text-align: right;\">\n      <th></th>\n      <th>Main Rating</th>\n      <th>Pitch/Hit</th>\n      <th>Right/Left</th>\n      <th>Attributes</th>\n      <th>Name</th>\n    </tr>\n  </thead>\n  <tbody>\n    <tr>\n      <th>0</th>\n      <td>80.0</td>\n      <td>pitch</td>\n      <td>left</td>\n      <td>{'control': 79.0, 'stuff': 81.0, 'movement': 7...</td>\n      <td>Jonathan Garvey</td>\n    </tr>\n    <tr>\n      <th>1</th>\n      <td>67.0</td>\n      <td>hit</td>\n      <td>right</td>\n      <td>{'avoid ks': 65.0, 'eye': 75.0, 'contact': 65....</td>\n      <td>Allen Robbins</td>\n    </tr>\n    <tr>\n      <th>2</th>\n      <td>64.0</td>\n      <td>pitch</td>\n      <td>right</td>\n      <td>{'movement': 59.0, 'control': 61.0, 'stuff': 6...</td>\n      <td>Rodney Bates</td>\n    </tr>\n    <tr>\n      <th>3</th>\n      <td>81.0</td>\n      <td>pitch</td>\n      <td>right</td>\n      <td>{'control': 90.0, 'movement': 82.0, 'stuff': 9...</td>\n      <td>William Herbert</td>\n    </tr>\n    <tr>\n      <th>4</th>\n      <td>85.0</td>\n      <td>hit</td>\n      <td>right</td>\n      <td>{'speed/stealing': 92.0, 'eye': 85.0, 'contact...</td>\n      <td>James Lockett</td>\n    </tr>\n    <tr>\n      <th>...</th>\n      <td>...</td>\n      <td>...</td>\n      <td>...</td>\n      <td>...</td>\n      <td>...</td>\n    </tr>\n    <tr>\n      <th>2995</th>\n      <td>74.0</td>\n      <td>hit</td>\n      <td>right</td>\n      <td>{'eye': 65.0, 'avoid ks': 80.0, 'fielding': 76...</td>\n      <td>Stephen Naquin</td>\n    </tr>\n    <tr>\n      <th>2996</th>\n      <td>71.0</td>\n      <td>pitch</td>\n      <td>right</td>\n      <td>{'stuff': 66.0, 'control': 77.0, 'movement': 7...</td>\n      <td>Richard Masters</td>\n    </tr>\n    <tr>\n      <th>2997</th>\n      <td>67.0</td>\n      <td>hit</td>\n      <td>right</td>\n      <td>{'eye': 72.0, 'fielding': 61.0, 'power': 71.0,...</td>\n      <td>Patrick Keller</td>\n    </tr>\n    <tr>\n      <th>2998</th>\n      <td>59.0</td>\n      <td>pitch</td>\n      <td>left</td>\n      <td>{'control': 73.0, 'stuff': 56.0, 'movement': 6...</td>\n      <td>Henry Smith</td>\n    </tr>\n    <tr>\n      <th>2999</th>\n      <td>69.0</td>\n      <td>hit</td>\n      <td>right</td>\n      <td>{'power': 70.0, 'eye': 63.0, 'speed/stealing':...</td>\n      <td>James Damico</td>\n    </tr>\n  </tbody>\n</table>\n<p>3000 rows × 5 columns</p>\n</div>"
     },
     "execution_count": 57,
     "metadata": {},
     "output_type": "execute_result"
    }
   ],
   "source": [
    "df_main"
   ],
   "metadata": {
    "collapsed": false,
    "pycharm": {
     "name": "#%%\n"
    }
   }
  },
  {
   "cell_type": "code",
   "execution_count": null,
   "outputs": [],
   "source": [],
   "metadata": {
    "collapsed": false,
    "pycharm": {
     "name": "#%%\n"
    }
   }
  }
 ],
 "metadata": {
  "kernelspec": {
   "display_name": "Python 3",
   "language": "python",
   "name": "python3"
  },
  "language_info": {
   "codemirror_mode": {
    "name": "ipython",
    "version": 2
   },
   "file_extension": ".py",
   "mimetype": "text/x-python",
   "name": "python",
   "nbconvert_exporter": "python",
   "pygments_lexer": "ipython2",
   "version": "2.7.6"
  }
 },
 "nbformat": 4,
 "nbformat_minor": 0
}